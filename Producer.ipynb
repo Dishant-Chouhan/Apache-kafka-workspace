{
 "cells": [
  {
   "cell_type": "code",
   "execution_count": 1,
   "id": "6c982fab-9e34-48cb-bd88-1249b0c7af11",
   "metadata": {},
   "outputs": [
    {
     "name": "stdout",
     "output_type": "stream",
     "text": [
      "Collecting kafka-python-ng\n",
      "  Obtaining dependency information for kafka-python-ng from https://files.pythonhosted.org/packages/42/5d/f5c5180e5ec5ca594f81b40948d8d5da7e20b6312cb58416e4b766f06847/kafka_python_ng-2.2.2-py2.py3-none-any.whl.metadata\n",
      "  Downloading kafka_python_ng-2.2.2-py2.py3-none-any.whl.metadata (9.2 kB)\n",
      "Downloading kafka_python_ng-2.2.2-py2.py3-none-any.whl (232 kB)\n",
      "   ---------------------------------------- 0.0/232.4 kB ? eta -:--:--\n",
      "   - -------------------------------------- 10.2/232.4 kB ? eta -:--:--\n",
      "   ----- --------------------------------- 30.7/232.4 kB 435.7 kB/s eta 0:00:01\n",
      "   ------------ -------------------------- 71.7/232.4 kB 563.7 kB/s eta 0:00:01\n",
      "   --------------------------------- ------ 194.6/232.4 kB 1.3 MB/s eta 0:00:01\n",
      "   ---------------------------------------- 232.4/232.4 kB 1.3 MB/s eta 0:00:00\n",
      "Installing collected packages: kafka-python-ng\n",
      "Successfully installed kafka-python-ng-2.2.2\n",
      "Note: you may need to restart the kernel to use updated packages.\n"
     ]
    },
    {
     "name": "stderr",
     "output_type": "stream",
     "text": [
      "WARNING: Skipping C:\\Users\\Lenovo\\anaconda3\\Lib\\site-packages\\scikit_learn-1.4.1.post1.dist-info due to invalid metadata entry 'name'\n",
      "WARNING: Skipping C:\\Users\\Lenovo\\anaconda3\\Lib\\site-packages\\scikit_learn-1.4.1.post1.dist-info due to invalid metadata entry 'name'\n",
      "WARNING: Skipping C:\\Users\\Lenovo\\anaconda3\\Lib\\site-packages\\scikit_learn-1.4.1.post1.dist-info due to invalid metadata entry 'name'\n",
      "WARNING: Skipping C:\\Users\\Lenovo\\anaconda3\\Lib\\site-packages\\scikit_learn-1.4.1.post1.dist-info due to invalid metadata entry 'name'\n"
     ]
    }
   ],
   "source": [
    "pip install kafka-python-ng"
   ]
  },
  {
   "cell_type": "code",
   "execution_count": 2,
   "id": "1c77f5cd-70d8-416b-a42f-1dbc39310297",
   "metadata": {},
   "outputs": [],
   "source": [
    "from kafka import KafkaProducer, KafkaConsumer\n",
    "from kafka.errors import KafkaError\n",
    "import json\n",
    "\n",
    "# Define Kafka producer\n",
    "producer = KafkaProducer(\n",
    "    bootstrap_servers=['localhost:9092'],\n",
    "    value_serializer=lambda v: json.dumps(v).encode('utf-8')\n",
    ")\n",
    "\n",
    "# Produce a message\n",
    "future = producer.send('test-topic', {'key': 'akash'})\n",
    "try:\n",
    "    record_metadata = future.get(timeout=10)\n",
    "except KafkaError as e:\n",
    "    print(f\"Error sending message: {e}\")\n",
    "finally:\n",
    "    producer.close()\n"
   ]
  },
  {
   "cell_type": "code",
   "execution_count": null,
   "id": "ceda3bbb-4541-4569-9c46-62e844ce9186",
   "metadata": {},
   "outputs": [],
   "source": []
  },
  {
   "cell_type": "code",
   "execution_count": null,
   "id": "13e18c10-35dc-4a91-9311-d2a27e65d3cd",
   "metadata": {},
   "outputs": [],
   "source": []
  },
  {
   "cell_type": "code",
   "execution_count": null,
   "id": "1a551c4c-cf1c-47a0-b138-dbbeebd1858c",
   "metadata": {},
   "outputs": [],
   "source": []
  },
  {
   "cell_type": "code",
   "execution_count": null,
   "id": "d992b753-7285-4bf5-9a7f-ea67c9ea1c8f",
   "metadata": {},
   "outputs": [],
   "source": []
  },
  {
   "cell_type": "code",
   "execution_count": null,
   "id": "8cd3d311-30b9-4509-a60f-069fcec9b54e",
   "metadata": {},
   "outputs": [],
   "source": []
  },
  {
   "cell_type": "code",
   "execution_count": null,
   "id": "b0919723-6809-4738-9439-fae98a59ca7f",
   "metadata": {},
   "outputs": [],
   "source": []
  },
  {
   "cell_type": "code",
   "execution_count": null,
   "id": "a529886c-e769-49b2-b675-0896f9a53edf",
   "metadata": {},
   "outputs": [],
   "source": []
  },
  {
   "cell_type": "code",
   "execution_count": 3,
   "id": "ff477e6c-cc32-418c-bc73-6dd27aeafe2f",
   "metadata": {},
   "outputs": [],
   "source": [
    "# Define Kafka producer\n",
    "producer = KafkaProducer(\n",
    "    bootstrap_servers=['localhost:9092'],\n",
    "    value_serializer=lambda v: json.dumps(v).encode('utf-8')\n",
    ")\n",
    "\n",
    "# Produce messages to different partitions\n",
    "for i in range(10):\n",
    "    partition = i % 3  # Distribute messages across 3 partitions\n",
    "    message = {'key': f'value-{i}', 'partition': partition}\n",
    "    producer.send('test-topic', value=message, partition=partition)\n",
    "\n",
    "# Flush and close the producer\n",
    "producer.flush()\n",
    "producer.close()"
   ]
  },
  {
   "cell_type": "code",
   "execution_count": null,
   "id": "e6141440-a203-4736-be6f-2cabcc7b9c07",
   "metadata": {},
   "outputs": [],
   "source": []
  },
  {
   "cell_type": "code",
   "execution_count": null,
   "id": "e9bd450f-a758-469a-a6fd-e821f01fb8e3",
   "metadata": {},
   "outputs": [],
   "source": []
  },
  {
   "cell_type": "code",
   "execution_count": null,
   "id": "ed200bb6-8a57-4d8e-992a-68a6ce7de473",
   "metadata": {},
   "outputs": [],
   "source": []
  },
  {
   "cell_type": "code",
   "execution_count": null,
   "id": "da9b90ec-bbe1-4be6-99a0-a9e7de3106ff",
   "metadata": {},
   "outputs": [],
   "source": []
  },
  {
   "cell_type": "code",
   "execution_count": null,
   "id": "4f11701d-e454-486b-bfe3-a440da5a700b",
   "metadata": {},
   "outputs": [],
   "source": []
  },
  {
   "cell_type": "code",
   "execution_count": null,
   "id": "dbe4b10b-5852-4b21-aa2d-70841871c284",
   "metadata": {},
   "outputs": [],
   "source": []
  },
  {
   "cell_type": "code",
   "execution_count": null,
   "id": "c529b8df-cd8d-4820-bf8a-1bdb3d228209",
   "metadata": {},
   "outputs": [],
   "source": []
  }
 ],
 "metadata": {
  "kernelspec": {
   "display_name": "Python 3 (ipykernel)",
   "language": "python",
   "name": "python3"
  },
  "language_info": {
   "codemirror_mode": {
    "name": "ipython",
    "version": 3
   },
   "file_extension": ".py",
   "mimetype": "text/x-python",
   "name": "python",
   "nbconvert_exporter": "python",
   "pygments_lexer": "ipython3",
   "version": "3.11.5"
  }
 },
 "nbformat": 4,
 "nbformat_minor": 5
}
